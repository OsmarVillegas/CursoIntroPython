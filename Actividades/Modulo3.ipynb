{
 "cells": [
  {
   "cell_type": "markdown",
   "metadata": {},
   "source": [
    "# Ejercicio - Escribir declaraciones `if`, `else`, y `elif`"
   ]
  },
  {
   "cell_type": "code",
   "execution_count": null,
   "metadata": {},
   "outputs": [],
   "source": [
    "velAst = 49\n",
    "\n",
    "if velAst > 25:\n",
    "    print(\"¡¡PELIGRO!! el asteroide se acerca a una velocidad peligrosa\")\n",
    "else:\n",
    "    print(\"El asteoride no se acerca a una velocidad peligrosa\")"
   ]
  },
  {
   "cell_type": "code",
   "execution_count": null,
   "metadata": {},
   "outputs": [],
   "source": [
    "\n",
    "asteroide = 55\n",
    "\n",
    "if asteroide > 20:\n",
    "    print(\"Busca en el cielo\")\n",
    "elif asteroide == 20:\n",
    "    print(\"Busca en el cielo\")\n",
    "else:\n",
    "    print(\"Todo normal\")\n"
   ]
  },
  {
   "cell_type": "markdown",
   "metadata": {},
   "source": [
    "# Ejercicio: Uso de operadores `and` y `or` "
   ]
  },
  {
   "cell_type": "code",
   "execution_count": null,
   "metadata": {},
   "outputs": [],
   "source": [
    "tamañoAsteroide =  50\n",
    "velocidadAsteroide = 22\n",
    "\n",
    "if velocidadAsteroide > 20 and tamañoAsteroide >= 25:\n",
    "    print(\"!!!PELIGRO¡¡¡ evacuen el planeta !!!VAMOS A MORIR¡¡¡, esto no es un simulacro, mujeres y niños primero\")\n",
    "elif velocidadAsteroide <= 20:\n",
    "    print(\"Busca en el cielo, una luz brilla en él\")\n",
    "elif tamañoAsteroide < 20:\n",
    "    print(\"Todo normal\")\n",
    "else:\n",
    "    print(\"Todo normal\")"
   ]
  }
 ],
 "metadata": {
  "interpreter": {
   "hash": "59a18f5b7e2285f48c30d373e8ec41f04a12e16491c66999661a065ead005b45"
  },
  "kernelspec": {
   "display_name": "Python 3.10.2 64-bit (windows store)",
   "language": "python",
   "name": "python3"
  },
  "language_info": {
   "name": "python",
   "version": "3.10.2"
  },
  "orig_nbformat": 4
 },
 "nbformat": 4,
 "nbformat_minor": 2
}
