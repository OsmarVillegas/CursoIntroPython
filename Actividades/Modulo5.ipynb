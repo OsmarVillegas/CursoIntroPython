{
 "cells": [
  {
   "cell_type": "markdown",
   "metadata": {},
   "source": [
    "# Ejercicio1 - Utilizar operadores aritméticos"
   ]
  },
  {
   "cell_type": "code",
   "execution_count": null,
   "metadata": {},
   "outputs": [],
   "source": [
    "planeta1 = 149597870\n",
    "planeta2 = 778547200"
   ]
  },
  {
   "cell_type": "markdown",
   "metadata": {},
   "source": [
    "### Realizar la operación"
   ]
  },
  {
   "cell_type": "code",
   "execution_count": null,
   "metadata": {},
   "outputs": [],
   "source": [
    "distanciaEntreDosPlanetas = planeta2 - planeta1\n",
    "\n",
    "print(distanciaEntreDosPlanetas)\n",
    "\n",
    "distanciaMi = distanciaEntreDosPlanetas * 0.621\n",
    "\n",
    "distanciaMi = round(distanciaMi)\n",
    "\n",
    "print(str(distanciaMi) + \" Millas\")"
   ]
  },
  {
   "cell_type": "markdown",
   "metadata": {},
   "source": [
    "## Ejercicio 2: convierte cadenas en números y usa valores absolutos"
   ]
  },
  {
   "cell_type": "code",
   "execution_count": null,
   "metadata": {},
   "outputs": [],
   "source": [
    "planeta1 = input(\"Ingresa el valor del primer planeta \")\n",
    "planeta2 = input(\"Ingresa el valor del segundo planeta \")\n",
    "\n",
    "print(planeta1,planeta2)"
   ]
  },
  {
   "cell_type": "markdown",
   "metadata": {},
   "source": [
    "### Convertir a número"
   ]
  },
  {
   "cell_type": "code",
   "execution_count": null,
   "metadata": {},
   "outputs": [],
   "source": [
    "planeta1 = int(planeta1)\n",
    "planeta2 = int(planeta2)"
   ]
  },
  {
   "cell_type": "markdown",
   "metadata": {},
   "source": [
    "### Realizar el cálculo y convertir a valor absoluto"
   ]
  },
  {
   "cell_type": "code",
   "execution_count": null,
   "metadata": {},
   "outputs": [],
   "source": [
    "\n",
    "diferencia = planeta2 - planeta1\n",
    "diferencia = abs(diferencia)\n",
    "\n",
    "print(diferencia)\n",
    "distanciaMi = diferencia * 0.621\n",
    "\n",
    "print(distanciaMi)"
   ]
  }
 ],
 "metadata": {
  "interpreter": {
   "hash": "59a18f5b7e2285f48c30d373e8ec41f04a12e16491c66999661a065ead005b45"
  },
  "kernelspec": {
   "display_name": "Python 3.10.2 64-bit (windows store)",
   "language": "python",
   "name": "python3"
  },
  "language_info": {
   "name": "python",
   "version": "3.10.2"
  },
  "orig_nbformat": 4
 },
 "nbformat": 4,
 "nbformat_minor": 2
}
