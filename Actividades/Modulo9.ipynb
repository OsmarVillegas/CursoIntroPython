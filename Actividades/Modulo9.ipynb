{
 "cells": [
  {
   "cell_type": "markdown",
   "metadata": {},
   "source": [
    "# Ejercicio: Uso de funciones en Python"
   ]
  },
  {
   "cell_type": "code",
   "execution_count": null,
   "metadata": {},
   "outputs": [],
   "source": [
    "def generarReporte(principal_tank, externo_tank, hydrogen_tank):\n",
    "    total_promedio = (principal_tank + externo_tank + hydrogen_tank) / 3\n",
    "    return f\"\"\"Reporte tanques:\n",
    "    Total promedio: {total_promedio}%\n",
    "    Tanque principal: {principal_tank}%\n",
    "    Tanque externo: {externo_tank}%\n",
    "    Tanque de hidrogeno: {hydrogen_tank}% \n",
    "    \"\"\"\n"
   ]
  },
  {
   "cell_type": "code",
   "execution_count": null,
   "metadata": {},
   "outputs": [],
   "source": [
    "print(generarReporte(80,59,22))"
   ]
  },
  {
   "cell_type": "code",
   "execution_count": null,
   "metadata": {},
   "outputs": [],
   "source": [
    "def promedio(values):\n",
    "    total = sum(values)\n",
    "    numeroDeObjetos = len(values)\n",
    "    return total / numeroDeObjetos\n",
    "\n",
    "promedio([80,50,66])"
   ]
  },
  {
   "cell_type": "code",
   "execution_count": null,
   "metadata": {},
   "outputs": [],
   "source": [
    "def generarReporte(principal_tank, externo_tank, hydrogen_tank):\n",
    "    return f\"\"\"Reporte gasolina:\n",
    "    Total promedio: {promedio([principal_tank, externo_tank, hydrogen_tank])}%\n",
    "    Tanque principal: {principal_tank}%\n",
    "    Tanque externo: {externo_tank}%\n",
    "    Tanque de hidrogeno: {hydrogen_tank}% \n",
    "    \"\"\"\n",
    "\n",
    "print(generarReporte(99,21,66))"
   ]
  },
  {
   "cell_type": "markdown",
   "metadata": {},
   "source": [
    "## Ejercicio 2: Trabajo con argumentos de palabra clave"
   ]
  },
  {
   "cell_type": "code",
   "execution_count": null,
   "metadata": {},
   "outputs": [],
   "source": [
    "def reporteMision(tiempoDeLanzamiento, TiempoVuelo, destino, externo_tank, principal_tank):\n",
    "    return f\"\"\"\n",
    "    Mision a {destino}\n",
    "    Tiempo total de viaje: {tiempoDeLanzamiento + TiempoVuelo} minutos\n",
    "    Total de gasolina restante: {externo_tank + principal_tank} galones\n",
    "    \"\"\"\n",
    "\n",
    "print(reporteMision(14, 51, \"Luna\", 200000, 300000))"
   ]
  },
  {
   "cell_type": "code",
   "execution_count": null,
   "metadata": {},
   "outputs": [],
   "source": [
    "def reporteMision(destination, *minutes, **fuel_reservoirs):\n",
    "    return f\"\"\"\n",
    "    Mision a {destination}\n",
    "    Tiempo total de viaje: {sum(minutes)} minutos\n",
    "    Total de gasolina restante: {sum(fuel_reservoirs.values())}\n",
    "    \"\"\"\n",
    "\n",
    "print(reporteMision(\"Luna\", 10, 15, 51, main=300000, external=200000))\n"
   ]
  },
  {
   "cell_type": "code",
   "execution_count": null,
   "metadata": {},
   "outputs": [],
   "source": [
    "def reporteMision(destination, *minutes, **fuel_reservoirs):\n",
    "    reportePrincipal = f\"\"\"\n",
    "    Mision a {destination}\n",
    "    Tiempo total de viaje: {sum(minutes)} minutos\n",
    "    Total de gasolina restante: {sum(fuel_reservoirs.values())}\n",
    "    \"\"\"\n",
    "    for tank_name, gallons in fuel_reservoirs.items():\n",
    "        reportePrincipal += f\"{tank_name} tank --> {gallons} gallons left\\n\"\n",
    "    return reportePrincipal\n",
    "\n",
    "print(reporteMision(\"Luna\", 10, 15, 51, main=300000, external=200000))"
   ]
  }
 ],
 "metadata": {
  "interpreter": {
   "hash": "59a18f5b7e2285f48c30d373e8ec41f04a12e16491c66999661a065ead005b45"
  },
  "kernelspec": {
   "display_name": "Python 3.10.2 64-bit (windows store)",
   "language": "python",
   "name": "python3"
  },
  "language_info": {
   "name": "python",
   "version": "3.10.2"
  },
  "orig_nbformat": 4
 },
 "nbformat": 4,
 "nbformat_minor": 2
}
